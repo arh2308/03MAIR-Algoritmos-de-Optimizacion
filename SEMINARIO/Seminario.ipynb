{
  "nbformat": 4,
  "nbformat_minor": 0,
  "metadata": {
    "colab": {
      "name": "Seminario.ipynb",
      "provenance": [],
      "collapsed_sections": [],
      "authorship_tag": "ABX9TyPwU0NlZDOmpzpswiTU4c2D",
      "include_colab_link": true
    },
    "kernelspec": {
      "name": "python3",
      "display_name": "Python 3"
    }
  },
  "cells": [
    {
      "cell_type": "markdown",
      "metadata": {
        "id": "view-in-github",
        "colab_type": "text"
      },
      "source": [
        "<a href=\"https://colab.research.google.com/github/arh2308/03MAIR-Algoritmos-de-Optimizacion/blob/main/SEMINARIO/Seminario.ipynb\" target=\"_parent\"><img src=\"https://colab.research.google.com/assets/colab-badge.svg\" alt=\"Open In Colab\"/></a>"
      ]
    },
    {
      "cell_type": "markdown",
      "metadata": {
        "id": "O0qi8-WRmIFn"
      },
      "source": [
        "### Algoritmos de optimización - Seminario\r\n",
        "Nombre y Apellidos: Antonio Ruiz Hernandez  <br>\r\n",
        "https://colab.research.google.com/drive/1uIT3FEy1i7CsC9WI1RIBnlxkXjgy0zBs#scrollTo=O0qi8-WRmIFn\r\n",
        "\r\n",
        "https://github.com/arh2308/03MAIR-Algoritmos-de-Optimizacion/blob/main/SEMINARIO/Seminario.ipynb\r\n",
        "\r\n",
        "    \r\n",
        "Problema:\r\n",
        "    \r\n",
        "\r\n",
        ">- Combinar cifras y operaciones\r\n",
        "\r\n",
        "El objetivo del problema es que dados los numeros del 1 al 9 y con los signos de operacion basicos \"+ - / *\", \r\n",
        "dado un numero, se obtenga como resultado la combinacion de los mismos sin repeticion y con las operaciones mencionadas."
      ]
    },
    {
      "cell_type": "markdown",
      "metadata": {
        "id": "irzp0q_VmSe_"
      },
      "source": [
        "(*)¿Cuantas posibilidades hay sin tener en cuenta las restricciones?<br>\r\n",
        "\r\n",
        "Disponemos de 9 cifras que se pueden colocar de forma aleatoria con repeticion y 4 operadores.\r\n",
        "las posibilidades son 9^5 = 59049\r\n",
        "\r\n",
        "¿Cuantas posibilidades hay teniendo en cuenta todas las restricciones.\r\n",
        "\r\n",
        "El número de variaciones sin repetición de 5 elementos elegidos entre los 9 se \r\n",
        "expresa de la siguiente manera:\r\n",
        "    \r\n",
        "    Variaciones = 9! / (9 - 5)! = 15120\r\n",
        "\r\n",
        "Los operadores se mantienen siempre en la misma posicion"
      ]
    },
    {
      "cell_type": "markdown",
      "metadata": {
        "id": "Akxj2DD_mYNG"
      },
      "source": [
        "Modelo para el espacio de soluciones<br>\r\n",
        "(*) ¿Cual es la estructura de datos que mejor se adapta al problema? Argumentalo.(Es posible que hayas elegido una al principio y veas la necesidad de cambiar, arguentalo)\r\n",
        "\r\n",
        "La estructura de datos con la que se trabaja son 9 cifras del 1 al 9 y signos de operacion alternados + - / *."
      ]
    },
    {
      "cell_type": "markdown",
      "metadata": {
        "id": "wkfuGsgumeHy"
      },
      "source": [
        "Según el modelo para el espacio de soluciones<br>\r\n",
        "(*)¿Cual es la función objetivo?\r\n",
        "\r\n",
        "Lo que se persigue con esta funcion es obtener un resultado determinado a partir de un conjunto de operaciones \r\n",
        "a + b - c / d * e = valor\r\n",
        "\r\n",
        "El objetivo es dado un numero determinado, encontrarlo a partir de la siguiente operación a+b-c/d*e con \r\n",
        "la combinacion de numeros del 1 al 9.\r\n",
        "\r\n",
        "(*)¿Es un problema de maximización o minimización?\r\n",
        "\r\n",
        "El objetivo del problema es encontrar una solucion en base a los datos y funciones de que se disponen. No es\r\n",
        "un problema de maximizacion o minimizacion ya que lo que se busca es una combinacion de numeros para que nos \r\n",
        "den el valor deseado. Lo mejor seria hacerlo en el minimo numero de iteraciones y el minimo de tiempo de ejecucion."
      ]
    },
    {
      "cell_type": "markdown",
      "metadata": {
        "id": "tRDwMcbAml9i"
      },
      "source": [
        "Diseña un algoritmo para resolver el problema por fuerza bruta"
      ]
    },
    {
      "cell_type": "code",
      "metadata": {
        "id": "maJhbK8alMoo",
        "colab": {
          "base_uri": "https://localhost:8080/",
          "height": 275
        },
        "outputId": "d77486b9-d3f8-47d2-a593-ec36608d348d"
      },
      "source": [
        "#Algoritmo por fuerza bruta\r\n",
        "import timeit\r\n",
        "import numpy as np\r\n",
        "import pandas as pd\r\n",
        "\r\n",
        "def calculoFB(valor): \r\n",
        "    contador1=0\r\n",
        "    contador2=0\r\n",
        "    iteraciones=0\r\n",
        "    \r\n",
        "    numeros = pd.DataFrame(columns=[\"i\", \"j\",\"k\",\"l\",\"m\"])\r\n",
        "    min, max = 0,0\r\n",
        "\r\n",
        "    for i in range(1,10):\r\n",
        "        for j in range(1,10):\r\n",
        "            for k in range(1,10):\r\n",
        "                for l in range(1,10):\r\n",
        "                    for m in range(1,10):\r\n",
        "                        iteraciones += 1\r\n",
        "                        resultado = i+j-(k/l)*m\r\n",
        "                        #Comprobamos que el valor es el que se pide y que no hay numeros repetidos\r\n",
        "                        if (resultado == valor  and (i!=j!=k!=l!=m)   \r\n",
        "                                                and (i!=k) and (i!=l) and (i!=m)       \r\n",
        "                                                and (j!=l) and (j!=m)       \r\n",
        "                                                and (k!=m)\r\n",
        "                                                and ((k/l*m) % 1) == 0.0):   \r\n",
        "                            numeros=numeros.append({'i' : i, 'j' : j, 'k' : k, 'l' : l, 'm' : m} , ignore_index=True)\r\n",
        "                            #return(numeros, iteraciones)\r\n",
        "                            contador1 += 1\r\n",
        "                        #Comprobamos que el valor es el que se pide aunque haya numeros repetidos                            \r\n",
        "                        if (resultado == valor):      \r\n",
        "                            contador2 += 1\r\n",
        "                        #Comprobamos los valores minimo y maximo que podemos obtener de todas las combinaciones de los numeros\r\n",
        "                        #Esto no quiere decir que todos ellos sean validos\r\n",
        "                        if min > resultado:\r\n",
        "                            min = resultado\r\n",
        "                        if max < resultado:\r\n",
        "                            max = resultado\r\n",
        "\r\n",
        "    print (f\"hay {contador1} combinaciones posibles sin repeticion de numeros para obtener el resultado de {valor}\")\r\n",
        "    print (f\"hay {contador2} combinaciones posibles con repeticion de numeros para obtener el resultado de {valor}\")\r\n",
        "    print(f\"el valor minimo de las combinaciones con repeticion es {int(min)} y el valor maximo es {int(max)} \\n\")\r\n",
        "    return(numeros)\r\n",
        "\r\n",
        "\r\n",
        "%time display (calculoFB(-60))"
      ],
      "execution_count": 1,
      "outputs": [
        {
          "output_type": "stream",
          "text": [
            "hay 4 combinaciones posibles sin repeticion de numeros para obtener el resultado de -60\n",
            "hay 21 combinaciones posibles con repeticion de numeros para obtener el resultado de -60\n",
            "el valor minimo de las combinaciones con repeticion es -79 y el valor maximo es 17 \n",
            "\n"
          ],
          "name": "stdout"
        },
        {
          "output_type": "display_data",
          "data": {
            "text/html": [
              "<div>\n",
              "<style scoped>\n",
              "    .dataframe tbody tr th:only-of-type {\n",
              "        vertical-align: middle;\n",
              "    }\n",
              "\n",
              "    .dataframe tbody tr th {\n",
              "        vertical-align: top;\n",
              "    }\n",
              "\n",
              "    .dataframe thead th {\n",
              "        text-align: right;\n",
              "    }\n",
              "</style>\n",
              "<table border=\"1\" class=\"dataframe\">\n",
              "  <thead>\n",
              "    <tr style=\"text-align: right;\">\n",
              "      <th></th>\n",
              "      <th>i</th>\n",
              "      <th>j</th>\n",
              "      <th>k</th>\n",
              "      <th>l</th>\n",
              "      <th>m</th>\n",
              "    </tr>\n",
              "  </thead>\n",
              "  <tbody>\n",
              "    <tr>\n",
              "      <th>0</th>\n",
              "      <td>5</td>\n",
              "      <td>7</td>\n",
              "      <td>8</td>\n",
              "      <td>1</td>\n",
              "      <td>9</td>\n",
              "    </tr>\n",
              "    <tr>\n",
              "      <th>1</th>\n",
              "      <td>5</td>\n",
              "      <td>7</td>\n",
              "      <td>9</td>\n",
              "      <td>1</td>\n",
              "      <td>8</td>\n",
              "    </tr>\n",
              "    <tr>\n",
              "      <th>2</th>\n",
              "      <td>7</td>\n",
              "      <td>5</td>\n",
              "      <td>8</td>\n",
              "      <td>1</td>\n",
              "      <td>9</td>\n",
              "    </tr>\n",
              "    <tr>\n",
              "      <th>3</th>\n",
              "      <td>7</td>\n",
              "      <td>5</td>\n",
              "      <td>9</td>\n",
              "      <td>1</td>\n",
              "      <td>8</td>\n",
              "    </tr>\n",
              "  </tbody>\n",
              "</table>\n",
              "</div>"
            ],
            "text/plain": [
              "   i  j  k  l  m\n",
              "0  5  7  8  1  9\n",
              "1  5  7  9  1  8\n",
              "2  7  5  8  1  9\n",
              "3  7  5  9  1  8"
            ]
          },
          "metadata": {
            "tags": []
          }
        },
        {
          "output_type": "stream",
          "text": [
            "CPU times: user 60.3 ms, sys: 1.23 ms, total: 61.5 ms\n",
            "Wall time: 79.7 ms\n"
          ],
          "name": "stdout"
        }
      ]
    },
    {
      "cell_type": "code",
      "metadata": {
        "id": "xLRUHU0YaLdw"
      },
      "source": [
        ""
      ],
      "execution_count": null,
      "outputs": []
    },
    {
      "cell_type": "markdown",
      "metadata": {
        "id": "5XlZBL1dm11X"
      },
      "source": [
        "### Calcula la complejidad del algoritmo por fuerza bruta\r\n",
        "\r\n",
        "La complejidad de este algoritmo es n x n x n x n x n de los bucles for anidados esto es n^5, le añadimos los if que en total son 4 y esto nos da una complejidad de n^5 x 4"
      ]
    },
    {
      "cell_type": "markdown",
      "metadata": {
        "id": "HFUZ7hQynADM"
      },
      "source": [
        "### (*)Diseña un algoritmo que mejore la complejidad del algortimo por fuerza bruta. Argumenta porque crees que mejora el algoritmo por fuerza bruta"
      ]
    },
    {
      "cell_type": "code",
      "metadata": {
        "id": "Annub0AalKy6",
        "colab": {
          "base_uri": "https://localhost:8080/",
          "height": 69
        },
        "outputId": "65f242c1-f090-46a0-e09c-418513db14df"
      },
      "source": [
        "#Algoritmo por fuerza bruta mejorado  \r\n",
        "import timeit\r\n",
        "import numpy as np\r\n",
        "import pandas as pd\r\n",
        "\r\n",
        "def indices(valor):\r\n",
        "    inicio_i=1\r\n",
        "    inicio_j=1\r\n",
        "\r\n",
        "    #Para el caso de numeros positivos tenemos de comprobar que la suma de i+j ha de ser mayor que el valor deseado\r\n",
        "    #Con esto conseguimos minimizar el numero de iteraciones las mismas\r\n",
        "    #El codigo siguiente es para calcular los indices minimos de i j para las iteraciones\r\n",
        "    if valor>=0: \r\n",
        "        if valor<=3 and valor >=0: \r\n",
        "            inicio_i, inicio_j = 1,2\r\n",
        "        elif valor>3:\r\n",
        "            inicio_i = valor-9\r\n",
        "            aux_i = inicio_i\r\n",
        "            aux_j = valor - inicio_i\r\n",
        "            while aux_i < aux_j:\r\n",
        "                aux_i +=1\r\n",
        "                aux_j -=1\r\n",
        "                print (aux_i, aux_j)   \r\n",
        "            inicio_j = aux_j +1\r\n",
        "    return (inicio_i, inicio_j)\r\n",
        "\r\n",
        "def calculoFBM(valor): \r\n",
        "    contador1=0\r\n",
        "    contador2=0\r\n",
        "    iteraciones=0\r\n",
        "    inicio_i=1\r\n",
        "    inicio_j=1\r\n",
        "    \r\n",
        "    inicio_i, inicio_j = indices(valor)\r\n",
        "    \r\n",
        "    for i in range(inicio_i,10):\r\n",
        "        for j in range(inicio_j,10):\r\n",
        "            #En comparacion al algoritmo de fuerza bruta, en este caso comprobamos previamente  en cada\r\n",
        "            #bucle si los numeros seleccionados son diferentes de manera que se ahorran bucles innecesarios \r\n",
        "            if(i!=j):\r\n",
        "                #en funcion del valor de i+j ya podemos calcular en funcion del peso de la operacion el indice\r\n",
        "                #minimo de k para poder conseguir el resultado\r\n",
        "                indice_k=abs(int((valor-(i+j))/9))\r\n",
        "                for k in range(indice_k,10):\r\n",
        "                    if (k!=j and k!=i):\r\n",
        "                        for l in range(1,10):\r\n",
        "                            if(l!=k and l!=j and l!=i):\r\n",
        "                                #Teniendo las cuatro variable i,j,k,l y el valor deseado podemos calcular directamente m\r\n",
        "                                #sin tener de ejecutar bucles innecesarios\r\n",
        "                                m = int((l/k)*((i+j)-valor))\r\n",
        "                                if(m!=l and m!=k and m!=j and m!=i and m>0 and m<10):\r\n",
        "                                    #resultado = i+j-(k/l)*m\r\n",
        "                                    if ((i+j)-(k/l)*m == valor):\r\n",
        "                                        return(i,j,k,l,m, iteraciones)\r\n",
        "                                        contador1 += 1\r\n",
        "                                iteraciones+=1\r\n",
        "                            else:\r\n",
        "                                iteraciones+=1\r\n",
        "                    else:\r\n",
        "                        iteraciones+=1\r\n",
        "            else:\r\n",
        "                iteraciones+=1\r\n",
        "    print(f\"No se ha encontrado ninguna combinacion para el numero {valor}\")\r\n",
        "    return(0)\r\n",
        "\r\n",
        "\r\n",
        "%time display (calculoFBM(-60))\r\n",
        "\r\n",
        "#Comparando el algoritmo inicial de fuerza bruta para encontrar la combinacion de -60 se han requerido 31194 iteraciones.\r\n",
        "#Optimizando el mismo para conseguir el mismo resultado solo han sido necesarias 881 iteraciones\r\n"
      ],
      "execution_count": null,
      "outputs": [
        {
          "output_type": "display_data",
          "data": {
            "text/plain": [
              "(5, 7, 8, 1, 9, 881)"
            ]
          },
          "metadata": {
            "tags": []
          }
        },
        {
          "output_type": "stream",
          "text": [
            "CPU times: user 1.55 ms, sys: 0 ns, total: 1.55 ms\n",
            "Wall time: 1.56 ms\n"
          ],
          "name": "stdout"
        }
      ]
    },
    {
      "cell_type": "markdown",
      "metadata": {
        "id": "1l05r8BFnPld"
      },
      "source": [
        "Según el problema (y tenga sentido), diseña un juego de datos de entrada aleatorios"
      ]
    },
    {
      "cell_type": "code",
      "metadata": {
        "colab": {
          "base_uri": "https://localhost:8080/",
          "height": 69
        },
        "id": "wkF50612nRsa",
        "outputId": "33051768-5051-4049-bd5e-33c09eac48b2"
      },
      "source": [
        "import timeit\r\n",
        "import numpy as np\r\n",
        "import pandas as pd\r\n",
        "import random\r\n",
        "\r\n",
        "# Lista de numeros posibles de entrada     \r\n",
        "number = [1, 2, 3, 4, 5, 6, 7, 8, 9]\r\n",
        "#Limites extraidos de la funcion de fuerza bruta\r\n",
        "min = -69\r\n",
        "max = 16\r\n",
        "\r\n",
        "#Esta funcion nos devuelve 5 numeros del 1 al 9 aleatorios sin repeticion\r\n",
        "def Combinacion(number):\r\n",
        "    valor = random.sample(number, 5)\r\n",
        "    return valor\r\n",
        "\r\n",
        "#Esta funcion nos devuelve un valor aleatorio entre los limites minimo y maximo posibles\r\n",
        "def Valor(min, max):\r\n",
        "    return random.randint(min,max) \r\n",
        "\r\n",
        "#Aplicamos estos valores a una nueva funcion \r\n",
        "def calculoR(valor): \r\n",
        "    \r\n",
        "    iteraciones=0\r\n",
        "    while True:\r\n",
        "        iteraciones += 1\r\n",
        "        #Obtenemos combinacion de numeros del 1 al 9 sin repeticion\r\n",
        "        valor1 = Combinacion(number)\r\n",
        "        #Comprobamos que esta operacion nos da un valor sin resto\r\n",
        "        aux=((valor1[2]/valor1[3])*valor1[4]) % 1\r\n",
        "        if (aux == 0.0):\r\n",
        "            resultado = valor1[0]+valor1[1]-(valor1[2]/valor1[3])*valor1[4]\r\n",
        "            if (resultado == valor):\r\n",
        "                return(valor1[0],valor1[1],valor1[2],valor1[3],valor1[4], valor, iteraciones)\r\n",
        "    return(0)\r\n",
        "\r\n",
        "%time display (calculoR(Valor(min, max)))"
      ],
      "execution_count": null,
      "outputs": [
        {
          "output_type": "display_data",
          "data": {
            "text/plain": [
              "(8, 3, 9, 1, 6, -43, 1613)"
            ]
          },
          "metadata": {
            "tags": []
          }
        },
        {
          "output_type": "stream",
          "text": [
            "CPU times: user 11.5 ms, sys: 0 ns, total: 11.5 ms\n",
            "Wall time: 11.6 ms\n"
          ],
          "name": "stdout"
        }
      ]
    },
    {
      "cell_type": "markdown",
      "metadata": {
        "id": "dmOFavXgnymh"
      },
      "source": [
        "Enumera las referencias que has utilizado(si ha sido necesario) para llevar a cabo el trabajo\r\n",
        "\r\n",
        "https://docs.python.org/3/library/index.html\r\n",
        "    "
      ]
    },
    {
      "cell_type": "markdown",
      "metadata": {
        "id": "Z9dYfZL6n0jB"
      },
      "source": [
        "Describe brevemente las lineas de como crees que es posible avanzar en el estudio del problema. Ten en cuenta incluso posibles variaciones del problema y/o variaciones al alza del tamaño"
      ]
    },
    {
      "cell_type": "markdown",
      "metadata": {
        "id": "sVhYE94jn3IU"
      },
      "source": [
        "Creo que el problema se podria resolver con funciones recursivas, evaluando los pesos de \r\n",
        "la parte de la suma por un lado y por otro la parte de la division y de la multiplicacion\r\n",
        "hasta llegar al resultado deseado"
      ]
    }
  ]
}