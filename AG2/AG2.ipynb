{
  "nbformat": 4,
  "nbformat_minor": 0,
  "metadata": {
    "colab": {
      "name": "AG2.ipynb",
      "provenance": [],
      "collapsed_sections": [],
      "authorship_tag": "ABX9TyPqcRLSPPBXiOkVeRgUMAa3",
      "include_colab_link": true
    },
    "kernelspec": {
      "name": "python3",
      "display_name": "Python 3"
    }
  },
  "cells": [
    {
      "cell_type": "markdown",
      "metadata": {
        "id": "view-in-github",
        "colab_type": "text"
      },
      "source": [
        "<a href=\"https://colab.research.google.com/github/arh2308/03MAIR-Algoritmos-de-Optimizacion/blob/main/AG2/AG2.ipynb\" target=\"_parent\"><img src=\"https://colab.research.google.com/assets/colab-badge.svg\" alt=\"Open In Colab\"/></a>"
      ]
    },
    {
      "cell_type": "code",
      "metadata": {
        "id": "Ap1kns9Cw_wH"
      },
      "source": [
        "Actividad guiada 2\r\n",
        "Antonio Ruiz Hernandez\r\n",
        "https://colab.research.google.com/drive/1GKw50uA9aerDcuzJLkDBMcvFU6QnxGZh?usp=sharing\r\n"
      ],
      "execution_count": null,
      "outputs": []
    },
    {
      "cell_type": "markdown",
      "metadata": {
        "id": "8KXZgu57iEM5"
      },
      "source": [
        "###Viaje por el rio"
      ]
    },
    {
      "cell_type": "code",
      "metadata": {
        "id": "Sgre9gFBtu4F",
        "colab": {
          "base_uri": "https://localhost:8080/",
          "height": 122
        },
        "outputId": "77a92e5a-058e-4b83-d4cd-bc086a9c6099"
      },
      "source": [
        "#Viaje por el rio\n",
        "\n",
        "import math\n",
        "import timeit\n",
        "\n",
        "Tarifas = [\n",
        "[0,5,4,3,999,999,999],        #desde nodo 0\n",
        "[999,0,999,2,3,999,11],       #desde nodo 1\n",
        "[999,999, 0,1,999,4,10],      #desde nodo 2\n",
        "[999,999,999, 0,5,6,9],\n",
        "[999,999, 999,999,0,999,4],\n",
        "[999,999, 999,999,999,0,3],\n",
        "[999,999,999,999,999,999,0]\n",
        "]\n",
        "\n",
        "def Precios(Tarifas):\n",
        "\n",
        "  N = len(Tarifas)   #Numero de embarcaderos\n",
        "  \n",
        "  #Inicialización de la tabla de precios\n",
        "  Precios = [ [9999]*N for i in range(N)]  \n",
        "\n",
        "  #Inicialización de los puntos de inicio y fin\n",
        "  Ruta = [ [\"\"]*N for i in [\"\"]*N]\n",
        "\n",
        "  for i in range(N-1):\n",
        "  # Recorremos el punto en el que nos encontramos hacia adelante. \n",
        "    for j in range(i+1, N):\n",
        "    # Recorremos el punto i+1 en el que nos encontramos hacia adelante.\n",
        "      Minimo = Tarifas[i][j]\n",
        "      Ruta[i][j] = i\n",
        "      # Recorrelos puntos intermedios entre 'i' y 'j' para calcular el minimo para ir de i a j\n",
        "      for k in range(i, j):\n",
        "        if (Precios[i][k] + Tarifas[k][j]) < Minimo:\n",
        "            Minimo = min(Minimo, Precios[i][k] + Tarifas[k][j] )\n",
        "            Ruta[i][j] = k\n",
        "      Precios[i][j] = Minimo  # Coste minimo\n",
        "        \n",
        "  return Precios,Ruta\n",
        "\n",
        "def calcular_ruta(Ruta, desde, hasta):\n",
        "  if desde == hasta:\n",
        "    print(\"Destino alcanzado\")\n",
        "    return desde \n",
        "  \n",
        "  else:\n",
        "    # Acumula en un str los puertos donde ha estado\n",
        "    string_puerto = calcular_ruta(Ruta, desde, Ruta[desde][hasta])\n",
        "        \n",
        "    # Ultimo puerto visitado antes de el destino\n",
        "    ultimo_puerto = Ruta[desde][hasta]\n",
        "    \n",
        "    print (\"Puerto origen=\",string_puerto,\"Ultimo puerto=\", ultimo_puerto)\n",
        "  return str(string_puerto)+  ',' + str(ultimo_puerto)\n",
        "\n",
        "%time calcular_ruta(Ruta,1,6) # Ir del puerto origen al puerto de destino"
      ],
      "execution_count": null,
      "outputs": [
        {
          "output_type": "stream",
          "text": [
            "Destino alcanzado\n",
            "Puerto origen= 1 Ultimo puerto= 1\n",
            "Puerto origen= 1,1 Ultimo puerto= 4\n",
            "CPU times: user 264 µs, sys: 1.07 ms, total: 1.34 ms\n",
            "Wall time: 983 µs\n"
          ],
          "name": "stdout"
        },
        {
          "output_type": "execute_result",
          "data": {
            "application/vnd.google.colaboratory.intrinsic+json": {
              "type": "string"
            },
            "text/plain": [
              "'1,1,4'"
            ]
          },
          "metadata": {
            "tags": []
          },
          "execution_count": 11
        }
      ]
    },
    {
      "cell_type": "code",
      "metadata": {
        "id": "YlBtqg5CwO3x",
        "colab": {
          "base_uri": "https://localhost:8080/"
        },
        "outputId": "6938152d-6670-4ba2-ec79-08ce660df3ae"
      },
      "source": [
        "Precios,Ruta = Precios(Tarifas)  \n",
        "\n",
        "print(\"PRECIOS\")\n",
        "for i in range(len(Tarifas)):\n",
        "  print(Precios[i])\n",
        "\n",
        "print(\"\\nRUTA\")  \n",
        "for i in range(len(Tarifas)):\n",
        "  print(Ruta[i]) "
      ],
      "execution_count": null,
      "outputs": [
        {
          "output_type": "stream",
          "text": [
            "PRECIOS\n",
            "[9999, 5, 4, 3, 8, 8, 11]\n",
            "[9999, 9999, 999, 2, 3, 8, 7]\n",
            "[9999, 9999, 9999, 1, 6, 4, 7]\n",
            "[9999, 9999, 9999, 9999, 5, 6, 9]\n",
            "[9999, 9999, 9999, 9999, 9999, 999, 4]\n",
            "[9999, 9999, 9999, 9999, 9999, 9999, 3]\n",
            "[9999, 9999, 9999, 9999, 9999, 9999, 9999]\n",
            "\n",
            "RUTA\n",
            "['', 0, 0, 0, 1, 2, 5]\n",
            "['', '', 1, 1, 1, 3, 4]\n",
            "['', '', '', 2, 3, 2, 5]\n",
            "['', '', '', '', 3, 3, 3]\n",
            "['', '', '', '', '', 4, 4]\n",
            "['', '', '', '', '', '', 5]\n",
            "['', '', '', '', '', '', '']\n"
          ],
          "name": "stdout"
        }
      ]
    },
    {
      "cell_type": "markdown",
      "metadata": {
        "id": "HPfKYr5BiWth"
      },
      "source": [
        "##Problema de Asignacion de tarea"
      ]
    },
    {
      "cell_type": "code",
      "metadata": {
        "id": "Z7ot-cc653A5",
        "colab": {
          "base_uri": "https://localhost:8080/"
        },
        "outputId": "760dd40c-211e-4b8e-f99e-cd9db48de867"
      },
      "source": [
        "#Asignacion de tarea\n",
        "\n",
        "import math\n",
        "import timeit\n",
        "\n",
        "COSTES=[[11,12,18,40],\n",
        "        [14,15,13,22],\n",
        "        [11,17,19,23],\n",
        "        [17,14,20,28]]\n",
        "\n",
        "#Devuelve el coste para una solucion parcial        \n",
        "def valor(S,COSTES):\n",
        "  VALOR = 0\n",
        "  for i in range(len(S)):\n",
        "    VALOR += COSTES[S[i]][i] \n",
        "    #print (VALOR,COSTES[S[i]][i] )\n",
        "  return VALOR\n",
        "\n",
        "#Coste inferior para soluciones parciales\n",
        "def CI(S,COSTES):\n",
        "  VALOR = 0\n",
        "  #Valores establecidos\n",
        "  for i in range(len(S)):\n",
        "    VALOR += COSTES[i][S[i]]\n",
        "    #print (\"CI valores establecidos=\",VALOR,COSTES[S[i]][i] )\n",
        "  #Estimacion\n",
        "  for i in range( len(S), len(COSTES)   ):\n",
        "    VALOR += min( [ COSTES[j][i] for j in range(len(S), len(COSTES))  ])\n",
        "    #print (\"CI Estimacion=\",VALOR )\n",
        "  return VALOR\n",
        "\n",
        "#Genera tantos hijos como como posibilidades haya para la siguiente elemento de la tupla\n",
        "def crear_hijos(NODO, N):\n",
        "  HIJOS = []\n",
        "  for i in range(N ):\n",
        "    if i not in NODO:\n",
        "      HIJOS.append({'s':NODO +(i,)    })\n",
        "      #print (HIJOS)\n",
        "  return HIJOS\n",
        "\n",
        "#Construccion iterativa de soluciones(arbol). En cada etapa asignamos un agente(ramas).\n",
        "def ramificacion_y_poda(COSTES):\n",
        "  iteracion = 0\n",
        "  NODOS=[]\n",
        "\n",
        "  DIMENSION = len(COSTES)  \n",
        "  MEJOR_SOLUCION=tuple( i for i in range(len(COSTES)) )\n",
        "  print (MEJOR_SOLUCION)\n",
        "  CotaSup = valor(MEJOR_SOLUCION,COSTES)\n",
        "  #print(\"Cota Superior:\", CotaSup)\n",
        "\n",
        "  NODOS.append({'s':(), 'ci':CI((),COSTES)    } )\n",
        "\n",
        "  while( len(NODOS) > 0):\n",
        "    iteracion +=1\n",
        "\n",
        "    nodo_prometedor = [ min(NODOS, key=lambda x:x['ci']) ][0]['s']\n",
        "\n",
        "    #Se generan los hijos\n",
        "    HIJOS =[ {'s':x['s'], 'ci':CI(x['s'], COSTES)   } for x in crear_hijos(nodo_prometedor, DIMENSION) ]\n",
        "    #print (HIJOS)\n",
        "\n",
        "    #Revisamos la cota superior y nos quedamos con la mejor solucion si llegamos a una solucion final\n",
        "    NODO_FINAL = [x for x in HIJOS if len(x['s']) == DIMENSION  ]\n",
        "    if len(NODO_FINAL ) >0: \n",
        "      if NODO_FINAL[0]['ci'] < CotaSup:\n",
        "        CotaSup = NODO_FINAL[0]['ci']\n",
        "        MEJOR_SOLUCION = NODO_FINAL\n",
        " \n",
        "    #Poda\n",
        "    HIJOS = [x for x in HIJOS if x['ci'] < CotaSup   ]\n",
        "    #print (HIJOS)\n",
        "\n",
        "    #Añadimos los hijos \n",
        "    NODOS.extend(HIJOS) \n",
        "\n",
        "    #Eliminamos el nodo ramificado\n",
        "    NODOS =  [  x for x in NODOS if x['s'] != nodo_prometedor    ]\n",
        "    #print (NODOS)\n",
        "    \n",
        "  print(\"La solucion final es:\" ,MEJOR_SOLUCION , \" en \" , iteracion , \" iteraciones\" , \" para dimension: \" ,DIMENSION  )\n",
        "      \n",
        "\n",
        "%time ramificacion_y_poda(COSTES)"
      ],
      "execution_count": null,
      "outputs": [
        {
          "output_type": "stream",
          "text": [
            "(0, 1, 2, 3)\n",
            "La solucion final es: [{'s': (1, 2, 0, 3), 'ci': 64}]  en  10  iteraciones  para dimension:  4\n",
            "CPU times: user 1.07 ms, sys: 9 µs, total: 1.08 ms\n",
            "Wall time: 1.11 ms\n"
          ],
          "name": "stdout"
        }
      ]
    },
    {
      "cell_type": "markdown",
      "metadata": {
        "id": "I8xMb1PMi9J5"
      },
      "source": [
        "##Descenso del gradiente"
      ]
    },
    {
      "cell_type": "code",
      "metadata": {
        "id": "U6F7vFJoi9nR",
        "colab": {
          "base_uri": "https://localhost:8080/",
          "height": 282
        },
        "outputId": "31066aab-cd23-4b20-d349-9135d94329a6"
      },
      "source": [
        "import math                      #Funciones matematicas\n",
        "import matplotlib.pyplot as plt  #Generacion de gráficos (otra opcion seaborn)\n",
        "import numpy as np               #Tratamiento matriz N-dimensionales y otras (fundamental!) \n",
        "import scipy as sc\n",
        "import random\n",
        "\n",
        "#Definimos la funcion paraboloide\n",
        "f  = lambda X:      X[0]**2+X[1]**2      #Funcion\n",
        "df = lambda X: [2*X[0] , 2*X[1]]         #Gradiente\n",
        "\n",
        "#Prepara los datos para dibujar mapa de niveles de Z\n",
        "resolucion = 100 \n",
        "rango=2.5\n",
        "X=np.linspace(-rango,rango,resolucion) \n",
        "Y=np.linspace(-rango,rango,resolucion)\n",
        "Z=np.zeros((resolucion,resolucion))\n",
        "for ix,x in enumerate(X):\n",
        "  for iy,y in enumerate(Y):\n",
        "    Z[iy,ix] = f([x,y])\n",
        "\n",
        "#Pinta el mapa de niveles de Z\n",
        "plt.contourf(X,Y,Z,resolucion)\n",
        "plt.colorbar() \n",
        "\n",
        "#Generamos un punto aleatorio\n",
        "P=[random.uniform(-2,2  ),random.uniform(-2,2 ) ]\n",
        "plt.plot(P[0],P[1],\"o\",c=\"white\")\n",
        "\n",
        "#Tasa de aprendizaje\n",
        "TA=.1 \n",
        "\n",
        "#Iteraciones\n",
        "for _ in range(500):\n",
        "  grad = df(P)\n",
        "  #print(P,grad)\n",
        "  P[0],P[1] = P[0] - TA*grad[0] , P[1] - TA*grad[1]\n",
        "  plt.plot(P[0],P[1],\"o\",c=\"red\")\n",
        "\n",
        "plt.plot(P[0],P[1],\"o\",c=\"green\")\n",
        "plt.show()\n",
        "print(\"Solucion:\" , P , f(P))\n"
      ],
      "execution_count": null,
      "outputs": [
        {
          "output_type": "display_data",
          "data": {
            "image/png": "[encoded data removed]",
            "text/plain": [
              "<Figure size 432x288 with 2 Axes>"
            ]
          },
          "metadata": {
            "tags": [],
            "needs_background": "light"
          }
        },
        {
          "output_type": "stream",
          "text": [
            "Solucion: [-6.4246291120926445e-49, -4.23994351246109e-49] 5.92529802168092e-97\n"
          ],
          "name": "stdout"
        }
      ]
    }
  ]
}