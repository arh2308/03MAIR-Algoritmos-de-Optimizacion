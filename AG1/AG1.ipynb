{
  "nbformat": 4,
  "nbformat_minor": 0,
  "metadata": {
    "colab": {
      "name": "AG1.ipynb",
      "provenance": [],
      "collapsed_sections": [],
      "authorship_tag": "ABX9TyOEgNmEii/ZaN4dkkTUcRYM",
      "include_colab_link": true
    },
    "kernelspec": {
      "name": "python3",
      "display_name": "Python 3"
    }
  },
  "cells": [
    {
      "cell_type": "markdown",
      "metadata": {
        "id": "view-in-github",
        "colab_type": "text"
      },
      "source": [
        "<a href=\"https://colab.research.google.com/github/arh2308/03MAIR-Algoritmos-de-Optimizacion/blob/main/AG1/AG1.ipynb\" target=\"_parent\"><img src=\"https://colab.research.google.com/assets/colab-badge.svg\" alt=\"Open In Colab\"/></a>"
      ]
    },
    {
      "cell_type": "code",
      "metadata": {
        "id": "BO9T3w509iQy"
      },
      "source": [
        "Actividad guiada 1\r\n",
        "Antonio Ruiz Hernandez\r\n",
        "https://colab.research.google.com/drive/1ROQ5MSki-ai9oPPAFcZSk31W_W1xoaxu?usp=sharing\r\n",
        "https://github.com/arh2308/03MAIR-Algoritmos-de-Optimizacion/blob/main/AG1/AG1.ipynb\r\n",
        "\r\n"
      ],
      "execution_count": null,
      "outputs": []
    },
    {
      "cell_type": "code",
      "metadata": {
        "id": "a5zPdM_XmNQM",
        "colab": {
          "base_uri": "https://localhost:8080/"
        },
        "outputId": "52de555b-3b3c-4f0a-83db-b41ef0fa6d3d"
      },
      "source": [
        "#Torres de Hanoi  \r\n",
        "\r\n",
        "import math\r\n",
        "import timeit\r\n",
        "import numpy as np\r\n",
        "\r\n",
        "Discos = 4\r\n",
        "\r\n",
        "\r\n",
        "CO=[]\r\n",
        "CA=[]\r\n",
        "CD=[]\r\n",
        "\r\n",
        "\r\n",
        "def TorreHanoi(Piezas):\r\n",
        "\r\n",
        "  CO = [x for x in range(1, Piezas+1)]\r\n",
        "  print (CO, CA, CD)\r\n",
        "\r\n",
        "  Hanoi(Piezas, \"INI\", \"AUX\", \"FIN\", CO)\r\n",
        "\r\n",
        "\r\n",
        "def Hanoi(discos,Origen,Auxiliar,Destino, CO):\r\n",
        "    Traspaso=0\r\n",
        "   \r\n",
        "    if discos==1:\r\n",
        "        #print (Origen,\"a\",Destino)\r\n",
        "\r\n",
        "        if (Origen==\"INI\") & (len(CO)>0):\r\n",
        "            Traspaso=CO.pop()\r\n",
        "        if (Origen==\"AUX\") & (len(CA)>0):\r\n",
        "             Traspaso=CA.pop()\r\n",
        "        if (Origen==\"FIN\") & (len(CD)>0):\r\n",
        "            Traspaso=CD.pop()\r\n",
        " \r\n",
        "        if (Destino==\"INI\"):\r\n",
        "             CO.append(Traspaso)\r\n",
        "        if (Destino==\"AUX\"):\r\n",
        "             CA.append(Traspaso)\r\n",
        "        if (Destino==\"FIN\"):\r\n",
        "             CD.append(Traspaso)\r\n",
        "\r\n",
        "        print (CO,CA,CD)\r\n",
        "\r\n",
        "    if discos != 1:\r\n",
        "\r\n",
        "        Hanoi(discos-1,Origen,Destino,Auxiliar, CO)\r\n",
        "        #print (Origen,\"a\",Destino)\r\n",
        "\r\n",
        "        if (Origen==\"INI\") & (len(CO)>0):\r\n",
        "            Traspaso=CO.pop()\r\n",
        "        if (Origen==\"AUX\") & (len(CA)>0):\r\n",
        "              Traspaso=CA.pop()\r\n",
        "        if (Origen==\"FIN\") & (len(CD)>0):\r\n",
        "            Traspaso=CD.pop()\r\n",
        "\r\n",
        "        if (Destino==\"INI\"):\r\n",
        "              CO.append(Traspaso)\r\n",
        "        if (Destino==\"AUX\"):\r\n",
        "              CA.append(Traspaso)\r\n",
        "        if (Destino==\"FIN\"):\r\n",
        "              CD.append(Traspaso)\r\n",
        "\r\n",
        "        print (CO,CA,CD)\r\n",
        "\r\n",
        "        Hanoi(discos-1,Auxiliar,Origen,Destino, CO)\r\n",
        "\r\n",
        "    \r\n",
        "    return\r\n",
        "\r\n",
        "%time TorreHanoi(Discos)\r\n",
        "\r\n"
      ],
      "execution_count": null,
      "outputs": [
        {
          "output_type": "stream",
          "text": [
            "[1, 2, 3, 4] [] []\n",
            "[1, 2, 3] [4] []\n",
            "[1, 2] [4] [3]\n",
            "[1, 2] [] [3, 4]\n",
            "[1] [2] [3, 4]\n",
            "[1, 4] [2] [3]\n",
            "[1, 4] [2, 3] []\n",
            "[1] [2, 3, 4] []\n",
            "[] [2, 3, 4] [1]\n",
            "[] [2, 3] [1, 4]\n",
            "[3] [2] [1, 4]\n",
            "[3, 4] [2] [1]\n",
            "[3, 4] [] [1, 2]\n",
            "[3] [4] [1, 2]\n",
            "[] [4] [1, 2, 3]\n",
            "[] [] [1, 2, 3, 4]\n",
            "CPU times: user 3.12 ms, sys: 895 µs, total: 4.02 ms\n",
            "Wall time: 3 ms\n"
          ],
          "name": "stdout"
        }
      ]
    },
    {
      "cell_type": "code",
      "metadata": {
        "id": "T7ArMU58mflH",
        "colab": {
          "base_uri": "https://localhost:8080/"
        },
        "outputId": "8f0c1c9f-8324-4f78-e899-9d8e1019407a"
      },
      "source": [
        "#Devolucion de cambio\r\n",
        "\r\n",
        "import math\r\n",
        "import timeit\r\n",
        "import numpy as np\r\n",
        "\r\n",
        "TipoMonedas = [25,10,5,2,1]\r\n",
        "\r\n",
        "def Cambio(C, TM):\r\n",
        "  ValorAcumulado = 0\r\n",
        "  Devolucion = [0] * len(TM)\r\n",
        "\r\n",
        "  for i,VM in enumerate(TM):\r\n",
        "\r\n",
        "    monedas = (C - ValorAcumulado) // VM\r\n",
        "    Devolucion[i] = monedas\r\n",
        "    ValorAcumulado += (monedas * VM)\r\n",
        "    print(i, VM, monedas, ValorAcumulado)\r\n",
        "    if ValorAcumulado == C:\r\n",
        "      return Devolucion , f\"{sum(Devolucion)} Monedas\"\r\n",
        "  \r\n",
        "%time print(Cambio(28,TipoMonedas))\r\n",
        "\r\n"
      ],
      "execution_count": 4,
      "outputs": [
        {
          "output_type": "stream",
          "text": [
            "0 25 1 25\n",
            "1 10 0 25\n",
            "2 5 0 25\n",
            "3 2 1 27\n",
            "4 1 1 28\n",
            "([1, 0, 0, 1, 1], '3 Monedas')\n",
            "CPU times: user 831 µs, sys: 0 ns, total: 831 µs\n",
            "Wall time: 587 µs\n"
          ],
          "name": "stdout"
        }
      ]
    },
    {
      "cell_type": "code",
      "metadata": {
        "id": "0Q-A7MmNo7pt",
        "colab": {
          "base_uri": "https://localhost:8080/"
        },
        "outputId": "7efb9072-ac27-4e38-f628-6a6de93a11a5"
      },
      "source": [
        "# 4 reinas  \r\n",
        "\r\n",
        "import math\r\n",
        "import timeit\r\n",
        "import numpy as np\r\n",
        "\r\n",
        "def reinas(N, solucion=[], etapa=0):\r\n",
        "  if len(solucion) == 0:\r\n",
        "    solucion=[0 for i in range(N)]\r\n",
        "  for i in range(1,N+1):\r\n",
        "    solucion[etapa] = i\r\n",
        "\r\n",
        "    # print(solucion)\r\n",
        "    if es_prometedora(solucion,etapa):\r\n",
        "      if etapa == N-1:\r\n",
        "        print(f\"\\n\\nLa solucion es: {solucion}\")\r\n",
        "        escribe(solucion)\r\n",
        "      else:\r\n",
        "        reinas(N,solucion,etapa+1)\r\n",
        "    else:\r\n",
        "      None\r\n",
        "    solucion[etapa]= 0\r\n",
        "\r\n",
        "\r\n",
        "def es_prometedora(SOLUCION,etapa):\r\n",
        "  for i in range(etapa+1):\r\n",
        "    if SOLUCION.count(SOLUCION[i]) > 1: return False\r\n",
        "\r\n",
        "    for j in range(i+1,etapa + 1):\r\n",
        "      if abs(i-j) == abs(SOLUCION[i] - SOLUCION[j]) : return False\r\n",
        "  return True\r\n",
        "\r\n",
        "def escribe(S):\r\n",
        "  n = len(S)\r\n",
        "  for x in range(n):\r\n",
        "    print(\"\")\r\n",
        "    for i in range(n):\r\n",
        "      if S[i] == x+1:\r\n",
        "        print(\" X \", end=\"\" )\r\n",
        "      else:\r\n",
        "        print(\" - \", end=\"\")\r\n",
        "\r\n",
        "%time print (reinas(4, solucion=[], etapa=0))\r\n"
      ],
      "execution_count": null,
      "outputs": [
        {
          "output_type": "stream",
          "text": [
            "\n",
            "\n",
            "La solucion es: [2, 4, 1, 3]\n",
            "\n",
            " -  -  X  - \n",
            " X  -  -  - \n",
            " -  -  -  X \n",
            " -  X  -  - \n",
            "\n",
            "La solucion es: [3, 1, 4, 2]\n",
            "\n",
            " -  X  -  - \n",
            " -  -  -  X \n",
            " X  -  -  - \n",
            " -  -  X  - None\n",
            "CPU times: user 5.08 ms, sys: 0 ns, total: 5.08 ms\n",
            "Wall time: 3.61 ms\n"
          ],
          "name": "stdout"
        }
      ]
    },
    {
      "cell_type": "code",
      "metadata": {
        "colab": {
          "base_uri": "https://localhost:8080/"
        },
        "id": "IFKohEJTlw1O",
        "outputId": "8b85a92e-b784-4b42-bd30-f0ea2302eb99"
      },
      "source": [
        "# Los puntos mas cercanos en 1D\r\n",
        "\r\n",
        "import random\r\n",
        "import math\r\n",
        "import timeit\r\n",
        "import pandas as np\r\n",
        "\r\n",
        "LISTA_1D = [random.randrange(1,1000) for x in range(10)]\r\n",
        "\r\n",
        "def dos_puntos(A):\r\n",
        "    distance = math.inf    # constante infinito positivo\r\n",
        "    for i in range(len(A)):\r\n",
        "      for j in  range(i+1,len(A)):\r\n",
        "        if abs(A[i]-A[j]) <= distance:\r\n",
        "          distance = abs(A[i]-A[j])\r\n",
        "          closestPair=(A[i],A[j])\r\n",
        "    return closestPair\r\n",
        "\r\n",
        "%time print(dos_puntos(LISTA_1D))\r\n",
        "\r\n"
      ],
      "execution_count": null,
      "outputs": [
        {
          "output_type": "stream",
          "text": [
            "(710, 714)\n",
            "CPU times: user 101 µs, sys: 0 ns, total: 101 µs\n",
            "Wall time: 104 µs\n"
          ],
          "name": "stdout"
        }
      ]
    },
    {
      "cell_type": "code",
      "metadata": {
        "id": "8WQ02Il8JfUG",
        "colab": {
          "base_uri": "https://localhost:8080/"
        },
        "outputId": "39a8066b-5985-445b-bc93-cedb918de1d2"
      },
      "source": [
        "# Los puntos mas cercanos en 2D\r\n",
        "\r\n",
        "import random\r\n",
        "import math\r\n",
        "import timeit\r\n",
        "import pandas as np\r\n",
        "\r\n",
        "LISTA_2D = [(random.randrange(1,1000),random.randrange(1,1000)) for x in range(10)]\r\n",
        "\r\n",
        "def distance(p0, p1):\r\n",
        "  return (((p0[0] - p1[0])**2) + ((p0[1] - p1[1])**2))**.5\r\n",
        "\r\n",
        "def distancia_fuerza_bruta2D(L):\r\n",
        "  mejor_distancia = math.inf    # constante infinito positivo\r\n",
        "  A,B = (),()\r\n",
        "  for i in range(len(L)):\r\n",
        "    for j in range(i+1,len(L)):\r\n",
        "      D= distance(L[i],L[j])\r\n",
        "      if D < mejor_distancia:\r\n",
        "        A,B=L[i],L[j]\r\n",
        "        mejor_distancia = D\r\n",
        "  return[A,B,distance(A, B)]\r\n",
        "\r\n",
        "%time print(distancia_fuerza_bruta2D(LISTA_2D))\r\n"
      ],
      "execution_count": 5,
      "outputs": [
        {
          "output_type": "stream",
          "text": [
            "[(751, 641), (766, 508), 133.843191832831]\n",
            "CPU times: user 587 µs, sys: 130 µs, total: 717 µs\n",
            "Wall time: 1.15 ms\n"
          ],
          "name": "stdout"
        }
      ]
    },
    {
      "cell_type": "markdown",
      "metadata": {
        "id": "LfAbW--9GAfw"
      },
      "source": [
        "###los dos puntos mas cercanos  3D \r\n",
        "\r\n",
        "---\r\n",
        "\r\n"
      ]
    },
    {
      "cell_type": "code",
      "metadata": {
        "id": "8sP6EshtGBhk",
        "colab": {
          "base_uri": "https://localhost:8080/"
        },
        "outputId": "26c2e0ee-0515-4d51-cd2d-fa8a261469db"
      },
      "source": [
        "# Los puntos mas cercanos en 2D\r\n",
        "\r\n",
        "import random\r\n",
        "import math\r\n",
        "import timeit\r\n",
        "import pandas as np\r\n",
        "\r\n",
        "LISTA_3D = [(random.randrange(1,1000),random.randrange(1,1000),random.randrange(1,1000)) for x in range(10)]\r\n",
        "\r\n",
        "def dist(p0, p1):\r\n",
        "  return (((p0[0] - p1[0])**2) + ((p0[1] - p1[1])**2) + ((p0[2] - p1[2])**2))**.5\r\n",
        "\r\n",
        "def distancia_fuerza_bruta3D(L):\r\n",
        "  mejor_distancia = math.inf\r\n",
        "  A,B = (),()\r\n",
        "  for i in range(len(L)):\r\n",
        "    for j in range(i+1,len(L)):\r\n",
        "      D= distance(L[i],L[j])\r\n",
        "      if D < mejor_distancia:\r\n",
        "        A,B=L[i],L[j]\r\n",
        "        mejor_distancia = D\r\n",
        "  return[A,B,distance(A, B)]\r\n",
        "\r\n",
        "%time print(distancia_fuerza_bruta3D(LISTA_3D))"
      ],
      "execution_count": 8,
      "outputs": [
        {
          "output_type": "stream",
          "text": [
            "[(40, 694, 285), (110, 755, 122), 92.84934033152847]\n",
            "CPU times: user 264 µs, sys: 68 µs, total: 332 µs\n",
            "Wall time: 338 µs\n"
          ],
          "name": "stdout"
        }
      ]
    }
  ]
}